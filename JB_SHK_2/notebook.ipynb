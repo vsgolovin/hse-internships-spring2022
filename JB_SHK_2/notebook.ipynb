{
 "cells": [
  {
   "cell_type": "code",
   "execution_count": 1,
   "metadata": {},
   "outputs": [],
   "source": [
    "from os import path\n",
    "import re\n",
    "import numpy as np\n",
    "import matplotlib.pyplot as plt\n",
    "from grobid_quantities.quantities import QuantitiesClient\n",
    "\n",
    "\n",
    "INPUT_FILE = path.join('data',\n",
    "                       '2022_JBR_Spring_Internship_Test_Data.csv')"
   ]
  },
  {
   "cell_type": "markdown",
   "metadata": {},
   "source": [
    "### Чтение входных данных\n",
    "\n",
    "Сохраним все данные в список кортежей `data`, где в каждом кортеже нулевой элемент соответвтвует PubMed ID, первый -- аннотации.\n",
    "\n",
    "В тексте каждой аннотации заменим двойные кавычки на одинарные, т.к. в противном случае при обработке возникает `JSONDecodeError`. Также заменим юникод-символы на `?`, потому что некоторые из них препятствуют обработке текста в `grobid-quantities` (`DEBUG - Disambugation failed.`). Такой подход явно не является оптимальным, т.к. некоторые удаляемые символы (например, $\\pm$) успешно обрабатываются `grobid-quantities`."
   ]
  },
  {
   "cell_type": "code",
   "execution_count": 2,
   "metadata": {},
   "outputs": [
    {
     "name": "stdout",
     "output_type": "stream",
     "text": [
      "Всего прочитано 1429 аннотаций.\n"
     ]
    },
    {
     "data": {
      "text/plain": [
       "('35103873',\n",
       " b'It has been a challenge for solving the motor imagery classification problem in the brain informatics area. Accuracy and efficiency are the major obstacles for motor imagery analysis in the past decades since the computational capability and algorithmic availability cannot satisfy complex brain signal analysis. In recent years, the rapid development of machine learning (ML) methods has empowered people to tackle the motor imagery classification problem with more efficient methods. Among various ML methods, the Graph neural networks (GNNs) method has shown its efficiency and accuracy in dealing with inter-related complex networks. The use of GNN provides new possibilities for feature extraction from brain structure connection. In this paper, we proposed a new model called MCGNet<sup>+</sup>, which improves the performance of our previous model MutualGraphNet. In this latest model, the mutual information of the input columns forms the initial adjacency matrix for the cosine similarity calculation between columns to generate a new adjacency matrix in each iteration. The dynamic adjacency matrix combined with the spatial temporal graph convolution network (ST-GCN) has better performance than the unchanged matrix model. The experimental results indicate that MCGNet<sup>+</sup> is robust enough to learn the interpretable features and outperforms the current state-of-the-art methods.')"
      ]
     },
     "execution_count": 2,
     "metadata": {},
     "output_type": "execute_result"
    }
   ],
   "source": [
    "data = []\n",
    "pattern = re.compile('(\\d{1,8}\\.?\\d.),\\\"?(.*?)\\\"?$')\n",
    "\n",
    "with open(INPUT_FILE, 'r') as f:\n",
    "    next(f)  # пропуск шапки\n",
    "    for line in f:\n",
    "        match = re.match(pattern, line.strip())\n",
    "        if match:\n",
    "            pmid = match.group(1)\n",
    "            abstract = match.group(2).replace('\\\"', '\\'')\n",
    "            abstract = abstract.encode('ascii', 'replace')\n",
    "            data.append((pmid, abstract))\n",
    "\n",
    "print(f'Всего прочитано {len(data)} аннотаций.')\n",
    "data[0]"
   ]
  },
  {
   "cell_type": "markdown",
   "metadata": {},
   "source": [
    "### Извлечение всех численных показателей\n",
    "\n",
    "Следуя заданию, сохраняем только тип значений `value`."
   ]
  },
  {
   "cell_type": "code",
   "execution_count": 3,
   "metadata": {},
   "outputs": [],
   "source": [
    "client = QuantitiesClient(apiBase='http://localhost:8060/service')"
   ]
  },
  {
   "cell_type": "code",
   "execution_count": 4,
   "metadata": {},
   "outputs": [
    {
     "name": "stdout",
     "output_type": "stream",
     "text": [
      "Всего найдено {len(measurements)} численных показателей.\n"
     ]
    }
   ],
   "source": [
    "measurements = []\n",
    "\n",
    "for _, abstract in data:\n",
    "    _, response = client.process_text(abstract)\n",
    "    if response and 'measurements' in response:\n",
    "        for m in response['measurements']:\n",
    "            if m['type'] == 'value':\n",
    "                measurements.append(m)\n",
    "\n",
    "print('Всего найдено {len(measurements)} численных показателей.')"
   ]
  },
  {
   "cell_type": "markdown",
   "metadata": {},
   "source": [
    "### Поиск значений, относящихся к слову \"accuracy\""
   ]
  },
  {
   "cell_type": "code",
   "execution_count": 5,
   "metadata": {},
   "outputs": [
    {
     "name": "stdout",
     "output_type": "stream",
     "text": [
      "Всего найдено 113 значений accuracy.\n",
      "Минимум: -0.657.\n",
      "Максимум: 1201.\n",
      "Медиана: 81.38.\n"
     ]
    }
   ],
   "source": [
    "accuracies = []\n",
    "for m in measurements:\n",
    "    if 'quantified' in m and m['quantified']['normalizedName'] == 'accuracy':\n",
    "        value = m['quantity']['parsedValue']\n",
    "        if 'numeric' in value:\n",
    "            accuracies.append(value['numeric'])\n",
    "\n",
    "print(f'Всего найдено {len(accuracies)} значений accuracy.')\n",
    "print(f'Минимум: {min(accuracies)}.')\n",
    "print(f'Максимум: {max(accuracies)}.')\n",
    "print(f'Медиана: {np.median(accuracies)}.')"
   ]
  },
  {
   "cell_type": "markdown",
   "metadata": {},
   "source": [
    "Посмотрим, какая доля значений \"accuracy\" не лежит в диапазоне $[0, 100]$. "
   ]
  },
  {
   "cell_type": "code",
   "execution_count": 6,
   "metadata": {},
   "outputs": [
    {
     "data": {
      "text/plain": [
       "4.424778761061947"
      ]
     },
     "execution_count": 6,
     "metadata": {},
     "output_type": "execute_result"
    }
   ],
   "source": [
    "outliers = [acc for acc in accuracies if (acc < 0 or acc > 100)]\n",
    "\n",
    "len(outliers) / len(accuracies) * 100"
   ]
  },
  {
   "cell_type": "code",
   "execution_count": 7,
   "metadata": {},
   "outputs": [
    {
     "data": {
      "text/plain": [
       "[-0.552, -0.543, -0.582, -0.657, 1201]"
      ]
     },
     "execution_count": 7,
     "metadata": {},
     "output_type": "execute_result"
    }
   ],
   "source": [
    "outliers"
   ]
  },
  {
   "cell_type": "markdown",
   "metadata": {},
   "source": [
    "Т.к. таких значений немного, построим гистограмму только для интервала $[0, 100]$."
   ]
  },
  {
   "cell_type": "code",
   "execution_count": 8,
   "metadata": {},
   "outputs": [
    {
     "data": {
      "text/plain": [
       "Text(0.5, 0, 'Accuracy')"
      ]
     },
     "execution_count": 8,
     "metadata": {},
     "output_type": "execute_result"
    },
    {
     "data": {
      "image/png": "[encoded data removed]",
      "text/plain": [
       "<Figure size 576x432 with 1 Axes>"
      ]
     },
     "metadata": {
      "needs_background": "light"
     },
     "output_type": "display_data"
    }
   ],
   "source": [
    "plt.figure(figsize=(8, 6))\n",
    "plt.hist(accuracies, bins=np.arange(0, 101, 5))\n",
    "plt.xlabel('Accuracy')"
   ]
  },
  {
   "cell_type": "markdown",
   "metadata": {},
   "source": [
    "Первый бин ($<5$%), возможно, соответствует значениям точности, записаными в десятичной форме. Проверим это предположение."
   ]
  },
  {
   "cell_type": "code",
   "execution_count": 9,
   "metadata": {},
   "outputs": [
    {
     "data": {
      "text/plain": [
       "[0.045, 0.011, 0.59, 0.0022]"
      ]
     },
     "execution_count": 9,
     "metadata": {},
     "output_type": "execute_result"
    }
   ],
   "source": [
    "[acc for acc in accuracies if (acc > 0 and acc < 1)]"
   ]
  },
  {
   "cell_type": "code",
   "execution_count": null,
   "metadata": {},
   "outputs": [],
   "source": []
  }
 ],
 "metadata": {
  "interpreter": {
   "hash": "49448eeb8252ad14269e9870f41be38726e4e73e71663eea00cd1e0ba3be12df"
  },
  "kernelspec": {
   "display_name": "Python 3 (ipykernel)",
   "language": "python",
   "name": "python3"
  },
  "language_info": {
   "codemirror_mode": {
    "name": "ipython",
    "version": 3
   },
   "file_extension": ".py",
   "mimetype": "text/x-python",
   "name": "python",
   "nbconvert_exporter": "python",
   "pygments_lexer": "ipython3",
   "version": "3.9.7"
  }
 },
 "nbformat": 4,
 "nbformat_minor": 2
}
